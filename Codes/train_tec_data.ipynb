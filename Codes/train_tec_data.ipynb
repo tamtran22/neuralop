{
 "cells": [
  {
   "cell_type": "code",
   "execution_count": 1,
   "metadata": {},
   "outputs": [],
   "source": [
    "import os\n",
    "import numpy as np\n",
    "import torch\n",
    "import matplotlib.pyplot as plt\n",
    "from neuralop import LpLoss, H1Loss\n",
    "from neuralop import Trainer as Trainer_1\n",
    "from neuralop.training import AdamW\n",
    "from neuralop.models import FNO1d\n",
    "from models.fno1d_activation import FNO1d_activation\n",
    "from torch.utils.data import DataLoader\n",
    "from data.tecplot import *\n",
    "from utils.utils import *\n",
    "\n",
    "os.environ[\"CUDA_VISIBLE_DEVICES\"]=\"0\" \n",
    "device = torch.device('cuda:0' if torch.cuda.is_available() else 'cpu')"
   ]
  },
  {
   "cell_type": "code",
   "execution_count": 2,
   "metadata": {},
   "outputs": [],
   "source": [
    "args = objectview({\n",
    "    'model' : FNO1d,\n",
    "    'model_args': {\n",
    "        'n_modes_height' : 128,\n",
    "        'hidden_channels' : 256,\n",
    "        'in_channels' : 15,\n",
    "        'out_channels' : 3,\n",
    "        'n_layers' : 10,\n",
    "        # 'post_activation' : torch.nn.functional.tanh\n",
    "    },\n",
    "    'train_args': {\n",
    "        'device' : torch.device('cuda:0' if torch.cuda.is_available() else 'cpu'),\n",
    "        'optimizer' : AdamW,\n",
    "        'lr' : 1e-3,\n",
    "        'weight_decay' : 1e-4,\n",
    "        'scheduler' : torch.optim.lr_scheduler.CosineAnnealingLR,\n",
    "        'loss' : H1Loss(d=2),\n",
    "        'trainer' : Trainer_1,\n",
    "        'n_epochs' : 5000,\n",
    "    },\n",
    "    'validate_args': {\n",
    "        'device' : torch.device('cpu')\n",
    "    }\n",
    "})"
   ]
  },
  {
   "cell_type": "code",
   "execution_count": 3,
   "metadata": {},
   "outputs": [],
   "source": [
    "data_names = [\n",
    "    '../data/it01rh_400-500_slice_trachea.dat',\n",
    "    '../data/it01rh_501-600_slice_trachea.dat',\n",
    "    '../data/it01rh_601-700_slice_trachea.dat',\n",
    "    '../data/it01rh_701-800_slice_trachea.dat'\n",
    "]\n",
    "dataset = load_tecplot_to_pt_dataset(\n",
    "    root_dir='../data/',\n",
    "    dataset_name='tecplot_slice',\n",
    "    n_train=300, \n",
    "    n_test=50, \n",
    "    resolution='medium',\n",
    "    batch_size=10,\n",
    "    normalize=True,\n",
    "    file_names=data_names,\n",
    ")"
   ]
  },
  {
   "cell_type": "code",
   "execution_count": null,
   "metadata": {},
   "outputs": [],
   "source": [
    "loader = DataLoader(\n",
    "    dataset.train_db, \n",
    "    batch_size=5, \n",
    "    num_workers=0, \n",
    "    pin_memory=False, \n",
    "    persistent_workers=False\n",
    ")"
   ]
  },
  {
   "cell_type": "code",
   "execution_count": 5,
   "metadata": {},
   "outputs": [],
   "source": [
    "model = args.model(**args.model_args).to(args.train_args['device'])\n",
    "optimizer = args.train_args['optimizer'](\n",
    "    model.parameters(), \n",
    "    lr=args.train_args['lr'], \n",
    "    weight_decay=args.train_args['weight_decay']\n",
    ")\n",
    "if args.train_args['scheduler'] is not None:\n",
    "    scheduler = args.train_args['scheduler'](optimizer, T_max=60)\n",
    "train_loss = args.train_args['loss']"
   ]
  },
  {
   "cell_type": "code",
   "execution_count": 6,
   "metadata": {},
   "outputs": [
    {
     "name": "stdout",
     "output_type": "stream",
     "text": [
      "Training on 300 samples\n",
      "Testing on [] samples         on resolutions [].\n"
     ]
    },
    {
     "ename": "OutOfMemoryError",
     "evalue": "CUDA out of memory. Tried to allocate 3.73 GiB. GPU 0 has a total capacity of 31.73 GiB of which 2.54 GiB is free. Including non-PyTorch memory, this process has 29.19 GiB memory in use. Of the allocated memory 26.50 GiB is allocated by PyTorch, and 2.29 GiB is reserved by PyTorch but unallocated. If reserved but unallocated memory is large try setting PYTORCH_CUDA_ALLOC_CONF=expandable_segments:True to avoid fragmentation.  See documentation for Memory Management  (https://pytorch.org/docs/stable/notes/cuda.html#environment-variables)",
     "output_type": "error",
     "traceback": [
      "\u001b[31m---------------------------------------------------------------------------\u001b[39m",
      "\u001b[31mOutOfMemoryError\u001b[39m                          Traceback (most recent call last)",
      "\u001b[36mCell\u001b[39m\u001b[36m \u001b[39m\u001b[32mIn[6]\u001b[39m\u001b[32m, line 8\u001b[39m\n\u001b[32m      1\u001b[39m trainer = args.train_args[\u001b[33m'\u001b[39m\u001b[33mtrainer\u001b[39m\u001b[33m'\u001b[39m](\n\u001b[32m      2\u001b[39m     model = model,\n\u001b[32m      3\u001b[39m     n_epochs = args.train_args[\u001b[33m'\u001b[39m\u001b[33mn_epochs\u001b[39m\u001b[33m'\u001b[39m],\n\u001b[32m   (...)\u001b[39m\u001b[32m      6\u001b[39m     verbose = \u001b[38;5;28;01mTrue\u001b[39;00m\n\u001b[32m      7\u001b[39m )\n\u001b[32m----> \u001b[39m\u001b[32m8\u001b[39m \u001b[43mtrainer\u001b[49m\u001b[43m.\u001b[49m\u001b[43mtrain\u001b[49m\u001b[43m(\u001b[49m\n\u001b[32m      9\u001b[39m \u001b[43m    \u001b[49m\u001b[43mtrain_loader\u001b[49m\u001b[43m \u001b[49m\u001b[43m=\u001b[49m\u001b[43m \u001b[49m\u001b[43mloader\u001b[49m\u001b[43m,\u001b[49m\n\u001b[32m     10\u001b[39m \u001b[43m    \u001b[49m\u001b[43mtest_loaders\u001b[49m\u001b[43m \u001b[49m\u001b[43m=\u001b[49m\u001b[43m \u001b[49m\u001b[43m{\u001b[49m\u001b[43m}\u001b[49m\u001b[43m,\u001b[49m\n\u001b[32m     11\u001b[39m \u001b[43m    \u001b[49m\u001b[43moptimizer\u001b[49m\u001b[43m \u001b[49m\u001b[43m=\u001b[49m\u001b[43m \u001b[49m\u001b[43moptimizer\u001b[49m\u001b[43m,\u001b[49m\n\u001b[32m     12\u001b[39m \u001b[43m    \u001b[49m\u001b[43mscheduler\u001b[49m\u001b[43m \u001b[49m\u001b[43m=\u001b[49m\u001b[43m \u001b[49m\u001b[43mscheduler\u001b[49m\u001b[43m,\u001b[49m\n\u001b[32m     13\u001b[39m \u001b[43m    \u001b[49m\u001b[43mregularizer\u001b[49m\u001b[43m \u001b[49m\u001b[43m=\u001b[49m\u001b[43m \u001b[49m\u001b[38;5;28;43;01mFalse\u001b[39;49;00m\u001b[43m,\u001b[49m\n\u001b[32m     14\u001b[39m \u001b[43m    \u001b[49m\u001b[43mtraining_loss\u001b[49m\u001b[43m \u001b[49m\u001b[43m=\u001b[49m\u001b[43m \u001b[49m\u001b[43mtrain_loss\u001b[49m\u001b[43m,\u001b[49m\n\u001b[32m     15\u001b[39m \u001b[43m    \u001b[49m\u001b[43msave_every\u001b[49m\u001b[43m \u001b[49m\u001b[43m=\u001b[49m\u001b[43m \u001b[49m\u001b[32;43m1\u001b[39;49m\u001b[43m,\u001b[49m\n\u001b[32m     16\u001b[39m \u001b[43m    \u001b[49m\u001b[43msave_dir\u001b[49m\u001b[43m \u001b[49m\u001b[43m=\u001b[49m\u001b[43m \u001b[49m\u001b[33;43m'\u001b[39;49m\u001b[33;43m../checkpoints/\u001b[39;49m\u001b[33;43m'\u001b[39;49m\n\u001b[32m     17\u001b[39m \u001b[43m)\u001b[49m\n",
      "\u001b[36mFile \u001b[39m\u001b[32m~/neuraloperator/neuralop/training/trainer.py:209\u001b[39m, in \u001b[36mTrainer.train\u001b[39m\u001b[34m(self, train_loader, test_loaders, optimizer, scheduler, regularizer, training_loss, eval_losses, save_every, save_best, save_dir, resume_from_dir)\u001b[39m\n\u001b[32m    205\u001b[39m     sys.stdout.flush()\n\u001b[32m    207\u001b[39m \u001b[38;5;28;01mfor\u001b[39;00m epoch \u001b[38;5;129;01min\u001b[39;00m \u001b[38;5;28mrange\u001b[39m(\u001b[38;5;28mself\u001b[39m.start_epoch, \u001b[38;5;28mself\u001b[39m.n_epochs):\n\u001b[32m    208\u001b[39m     train_err, avg_loss, avg_lasso_loss, epoch_train_time =\\\n\u001b[32m--> \u001b[39m\u001b[32m209\u001b[39m           \u001b[38;5;28;43mself\u001b[39;49m\u001b[43m.\u001b[49m\u001b[43mtrain_one_epoch\u001b[49m\u001b[43m(\u001b[49m\u001b[43mepoch\u001b[49m\u001b[43m,\u001b[49m\u001b[43m \u001b[49m\u001b[43mtrain_loader\u001b[49m\u001b[43m,\u001b[49m\u001b[43m \u001b[49m\u001b[43mtraining_loss\u001b[49m\u001b[43m)\u001b[49m\n\u001b[32m    210\u001b[39m     epoch_metrics = \u001b[38;5;28mdict\u001b[39m(\n\u001b[32m    211\u001b[39m         train_err=train_err,\n\u001b[32m    212\u001b[39m         avg_loss=avg_loss,\n\u001b[32m    213\u001b[39m         avg_lasso_loss=avg_lasso_loss,\n\u001b[32m    214\u001b[39m         epoch_train_time=epoch_train_time\n\u001b[32m    215\u001b[39m     )\n\u001b[32m    217\u001b[39m     \u001b[38;5;28;01mif\u001b[39;00m epoch % \u001b[38;5;28mself\u001b[39m.eval_interval == \u001b[32m0\u001b[39m:\n\u001b[32m    218\u001b[39m         \u001b[38;5;66;03m# evaluate and gather metrics across each loader in test_loaders\u001b[39;00m\n",
      "\u001b[36mFile \u001b[39m\u001b[32m~/neuraloperator/neuralop/training/trainer.py:269\u001b[39m, in \u001b[36mTrainer.train_one_epoch\u001b[39m\u001b[34m(self, epoch, train_loader, training_loss)\u001b[39m\n\u001b[32m    265\u001b[39m \u001b[38;5;28mself\u001b[39m.n_samples = \u001b[32m0\u001b[39m\n\u001b[32m    267\u001b[39m \u001b[38;5;28;01mfor\u001b[39;00m idx, sample \u001b[38;5;129;01min\u001b[39;00m \u001b[38;5;28menumerate\u001b[39m(train_loader):\n\u001b[32m--> \u001b[39m\u001b[32m269\u001b[39m     loss = \u001b[38;5;28;43mself\u001b[39;49m\u001b[43m.\u001b[49m\u001b[43mtrain_one_batch\u001b[49m\u001b[43m(\u001b[49m\u001b[43midx\u001b[49m\u001b[43m,\u001b[49m\u001b[43m \u001b[49m\u001b[43msample\u001b[49m\u001b[43m,\u001b[49m\u001b[43m \u001b[49m\u001b[43mtraining_loss\u001b[49m\u001b[43m)\u001b[49m\n\u001b[32m    270\u001b[39m     loss.backward()\n\u001b[32m    271\u001b[39m     \u001b[38;5;28mself\u001b[39m.optimizer.step()\n",
      "\u001b[36mFile \u001b[39m\u001b[32m~/neuraloperator/neuralop/training/trainer.py:432\u001b[39m, in \u001b[36mTrainer.train_one_batch\u001b[39m\u001b[34m(self, idx, sample, training_loss)\u001b[39m\n\u001b[32m    430\u001b[39m         out = \u001b[38;5;28mself\u001b[39m.model(**sample)\n\u001b[32m    431\u001b[39m \u001b[38;5;28;01melse\u001b[39;00m:\n\u001b[32m--> \u001b[39m\u001b[32m432\u001b[39m     out = \u001b[38;5;28;43mself\u001b[39;49m\u001b[43m.\u001b[49m\u001b[43mmodel\u001b[49m\u001b[43m(\u001b[49m\u001b[43m*\u001b[49m\u001b[43m*\u001b[49m\u001b[43msample\u001b[49m\u001b[43m)\u001b[49m\n\u001b[32m    434\u001b[39m \u001b[38;5;28;01mif\u001b[39;00m \u001b[38;5;28mself\u001b[39m.epoch == \u001b[32m0\u001b[39m \u001b[38;5;129;01mand\u001b[39;00m idx == \u001b[32m0\u001b[39m \u001b[38;5;129;01mand\u001b[39;00m \u001b[38;5;28mself\u001b[39m.verbose:\n\u001b[32m    435\u001b[39m     \u001b[38;5;28mprint\u001b[39m(\u001b[33mf\u001b[39m\u001b[33m\"\u001b[39m\u001b[33mRaw outputs of shape \u001b[39m\u001b[38;5;132;01m{\u001b[39;00mout.shape\u001b[38;5;132;01m}\u001b[39;00m\u001b[33m\"\u001b[39m)\n",
      "\u001b[36mFile \u001b[39m\u001b[32m~/.conda/envs/neuralop/lib/python3.13/site-packages/torch/nn/modules/module.py:1739\u001b[39m, in \u001b[36mModule._wrapped_call_impl\u001b[39m\u001b[34m(self, *args, **kwargs)\u001b[39m\n\u001b[32m   1737\u001b[39m     \u001b[38;5;28;01mreturn\u001b[39;00m \u001b[38;5;28mself\u001b[39m._compiled_call_impl(*args, **kwargs)  \u001b[38;5;66;03m# type: ignore[misc]\u001b[39;00m\n\u001b[32m   1738\u001b[39m \u001b[38;5;28;01melse\u001b[39;00m:\n\u001b[32m-> \u001b[39m\u001b[32m1739\u001b[39m     \u001b[38;5;28;01mreturn\u001b[39;00m \u001b[38;5;28;43mself\u001b[39;49m\u001b[43m.\u001b[49m\u001b[43m_call_impl\u001b[49m\u001b[43m(\u001b[49m\u001b[43m*\u001b[49m\u001b[43margs\u001b[49m\u001b[43m,\u001b[49m\u001b[43m \u001b[49m\u001b[43m*\u001b[49m\u001b[43m*\u001b[49m\u001b[43mkwargs\u001b[49m\u001b[43m)\u001b[49m\n",
      "\u001b[36mFile \u001b[39m\u001b[32m~/.conda/envs/neuralop/lib/python3.13/site-packages/torch/nn/modules/module.py:1750\u001b[39m, in \u001b[36mModule._call_impl\u001b[39m\u001b[34m(self, *args, **kwargs)\u001b[39m\n\u001b[32m   1745\u001b[39m \u001b[38;5;66;03m# If we don't have any hooks, we want to skip the rest of the logic in\u001b[39;00m\n\u001b[32m   1746\u001b[39m \u001b[38;5;66;03m# this function, and just call forward.\u001b[39;00m\n\u001b[32m   1747\u001b[39m \u001b[38;5;28;01mif\u001b[39;00m \u001b[38;5;129;01mnot\u001b[39;00m (\u001b[38;5;28mself\u001b[39m._backward_hooks \u001b[38;5;129;01mor\u001b[39;00m \u001b[38;5;28mself\u001b[39m._backward_pre_hooks \u001b[38;5;129;01mor\u001b[39;00m \u001b[38;5;28mself\u001b[39m._forward_hooks \u001b[38;5;129;01mor\u001b[39;00m \u001b[38;5;28mself\u001b[39m._forward_pre_hooks\n\u001b[32m   1748\u001b[39m         \u001b[38;5;129;01mor\u001b[39;00m _global_backward_pre_hooks \u001b[38;5;129;01mor\u001b[39;00m _global_backward_hooks\n\u001b[32m   1749\u001b[39m         \u001b[38;5;129;01mor\u001b[39;00m _global_forward_hooks \u001b[38;5;129;01mor\u001b[39;00m _global_forward_pre_hooks):\n\u001b[32m-> \u001b[39m\u001b[32m1750\u001b[39m     \u001b[38;5;28;01mreturn\u001b[39;00m \u001b[43mforward_call\u001b[49m\u001b[43m(\u001b[49m\u001b[43m*\u001b[49m\u001b[43margs\u001b[49m\u001b[43m,\u001b[49m\u001b[43m \u001b[49m\u001b[43m*\u001b[49m\u001b[43m*\u001b[49m\u001b[43mkwargs\u001b[49m\u001b[43m)\u001b[49m\n\u001b[32m   1752\u001b[39m result = \u001b[38;5;28;01mNone\u001b[39;00m\n\u001b[32m   1753\u001b[39m called_always_called_hooks = \u001b[38;5;28mset\u001b[39m()\n",
      "\u001b[36mFile \u001b[39m\u001b[32m~/neuraloperator/neuralop/models/fno.py:378\u001b[39m, in \u001b[36mFNO.forward\u001b[39m\u001b[34m(self, x, output_shape, **kwargs)\u001b[39m\n\u001b[32m    375\u001b[39m     x = \u001b[38;5;28mself\u001b[39m.domain_padding.pad(x)\n\u001b[32m    377\u001b[39m \u001b[38;5;28;01mfor\u001b[39;00m layer_idx \u001b[38;5;129;01min\u001b[39;00m \u001b[38;5;28mrange\u001b[39m(\u001b[38;5;28mself\u001b[39m.n_layers):\n\u001b[32m--> \u001b[39m\u001b[32m378\u001b[39m     x = \u001b[38;5;28;43mself\u001b[39;49m\u001b[43m.\u001b[49m\u001b[43mfno_blocks\u001b[49m\u001b[43m(\u001b[49m\u001b[43mx\u001b[49m\u001b[43m,\u001b[49m\u001b[43m \u001b[49m\u001b[43mlayer_idx\u001b[49m\u001b[43m,\u001b[49m\u001b[43m \u001b[49m\u001b[43moutput_shape\u001b[49m\u001b[43m=\u001b[49m\u001b[43moutput_shape\u001b[49m\u001b[43m[\u001b[49m\u001b[43mlayer_idx\u001b[49m\u001b[43m]\u001b[49m\u001b[43m)\u001b[49m\n\u001b[32m    380\u001b[39m \u001b[38;5;28;01mif\u001b[39;00m \u001b[38;5;28mself\u001b[39m.domain_padding \u001b[38;5;129;01mis\u001b[39;00m \u001b[38;5;129;01mnot\u001b[39;00m \u001b[38;5;28;01mNone\u001b[39;00m:\n\u001b[32m    381\u001b[39m     x = \u001b[38;5;28mself\u001b[39m.domain_padding.unpad(x)\n",
      "\u001b[36mFile \u001b[39m\u001b[32m~/.conda/envs/neuralop/lib/python3.13/site-packages/torch/nn/modules/module.py:1739\u001b[39m, in \u001b[36mModule._wrapped_call_impl\u001b[39m\u001b[34m(self, *args, **kwargs)\u001b[39m\n\u001b[32m   1737\u001b[39m     \u001b[38;5;28;01mreturn\u001b[39;00m \u001b[38;5;28mself\u001b[39m._compiled_call_impl(*args, **kwargs)  \u001b[38;5;66;03m# type: ignore[misc]\u001b[39;00m\n\u001b[32m   1738\u001b[39m \u001b[38;5;28;01melse\u001b[39;00m:\n\u001b[32m-> \u001b[39m\u001b[32m1739\u001b[39m     \u001b[38;5;28;01mreturn\u001b[39;00m \u001b[38;5;28;43mself\u001b[39;49m\u001b[43m.\u001b[49m\u001b[43m_call_impl\u001b[49m\u001b[43m(\u001b[49m\u001b[43m*\u001b[49m\u001b[43margs\u001b[49m\u001b[43m,\u001b[49m\u001b[43m \u001b[49m\u001b[43m*\u001b[49m\u001b[43m*\u001b[49m\u001b[43mkwargs\u001b[49m\u001b[43m)\u001b[49m\n",
      "\u001b[36mFile \u001b[39m\u001b[32m~/.conda/envs/neuralop/lib/python3.13/site-packages/torch/nn/modules/module.py:1750\u001b[39m, in \u001b[36mModule._call_impl\u001b[39m\u001b[34m(self, *args, **kwargs)\u001b[39m\n\u001b[32m   1745\u001b[39m \u001b[38;5;66;03m# If we don't have any hooks, we want to skip the rest of the logic in\u001b[39;00m\n\u001b[32m   1746\u001b[39m \u001b[38;5;66;03m# this function, and just call forward.\u001b[39;00m\n\u001b[32m   1747\u001b[39m \u001b[38;5;28;01mif\u001b[39;00m \u001b[38;5;129;01mnot\u001b[39;00m (\u001b[38;5;28mself\u001b[39m._backward_hooks \u001b[38;5;129;01mor\u001b[39;00m \u001b[38;5;28mself\u001b[39m._backward_pre_hooks \u001b[38;5;129;01mor\u001b[39;00m \u001b[38;5;28mself\u001b[39m._forward_hooks \u001b[38;5;129;01mor\u001b[39;00m \u001b[38;5;28mself\u001b[39m._forward_pre_hooks\n\u001b[32m   1748\u001b[39m         \u001b[38;5;129;01mor\u001b[39;00m _global_backward_pre_hooks \u001b[38;5;129;01mor\u001b[39;00m _global_backward_hooks\n\u001b[32m   1749\u001b[39m         \u001b[38;5;129;01mor\u001b[39;00m _global_forward_hooks \u001b[38;5;129;01mor\u001b[39;00m _global_forward_pre_hooks):\n\u001b[32m-> \u001b[39m\u001b[32m1750\u001b[39m     \u001b[38;5;28;01mreturn\u001b[39;00m \u001b[43mforward_call\u001b[49m\u001b[43m(\u001b[49m\u001b[43m*\u001b[49m\u001b[43margs\u001b[49m\u001b[43m,\u001b[49m\u001b[43m \u001b[49m\u001b[43m*\u001b[49m\u001b[43m*\u001b[49m\u001b[43mkwargs\u001b[49m\u001b[43m)\u001b[49m\n\u001b[32m   1752\u001b[39m result = \u001b[38;5;28;01mNone\u001b[39;00m\n\u001b[32m   1753\u001b[39m called_always_called_hooks = \u001b[38;5;28mset\u001b[39m()\n",
      "\u001b[36mFile \u001b[39m\u001b[32m~/neuraloperator/neuralop/layers/fno_block.py:277\u001b[39m, in \u001b[36mFNOBlocks.forward\u001b[39m\u001b[34m(self, x, index, output_shape)\u001b[39m\n\u001b[32m    275\u001b[39m     \u001b[38;5;28;01mreturn\u001b[39;00m \u001b[38;5;28mself\u001b[39m.forward_with_preactivation(x, index, output_shape)\n\u001b[32m    276\u001b[39m \u001b[38;5;28;01melse\u001b[39;00m:\n\u001b[32m--> \u001b[39m\u001b[32m277\u001b[39m     \u001b[38;5;28;01mreturn\u001b[39;00m \u001b[38;5;28;43mself\u001b[39;49m\u001b[43m.\u001b[49m\u001b[43mforward_with_postactivation\u001b[49m\u001b[43m(\u001b[49m\u001b[43mx\u001b[49m\u001b[43m,\u001b[49m\u001b[43m \u001b[49m\u001b[43mindex\u001b[49m\u001b[43m,\u001b[49m\u001b[43m \u001b[49m\u001b[43moutput_shape\u001b[49m\u001b[43m)\u001b[49m\n",
      "\u001b[36mFile \u001b[39m\u001b[32m~/neuraloperator/neuralop/layers/fno_block.py:292\u001b[39m, in \u001b[36mFNOBlocks.forward_with_postactivation\u001b[39m\u001b[34m(self, x, index, output_shape)\u001b[39m\n\u001b[32m    289\u001b[39m     \u001b[38;5;28;01melse\u001b[39;00m:\n\u001b[32m    290\u001b[39m         x = torch.tanh(x)\n\u001b[32m--> \u001b[39m\u001b[32m292\u001b[39m x_fno = \u001b[38;5;28;43mself\u001b[39;49m\u001b[43m.\u001b[49m\u001b[43mconvs\u001b[49m\u001b[43m[\u001b[49m\u001b[43mindex\u001b[49m\u001b[43m]\u001b[49m\u001b[43m(\u001b[49m\u001b[43mx\u001b[49m\u001b[43m,\u001b[49m\u001b[43m \u001b[49m\u001b[43moutput_shape\u001b[49m\u001b[43m=\u001b[49m\u001b[43moutput_shape\u001b[49m\u001b[43m)\u001b[49m\n\u001b[32m    293\u001b[39m \u001b[38;5;66;03m#self.convs(x, index, output_shape=output_shape)\u001b[39;00m\n\u001b[32m    295\u001b[39m \u001b[38;5;28;01mif\u001b[39;00m \u001b[38;5;28mself\u001b[39m.norm \u001b[38;5;129;01mis\u001b[39;00m \u001b[38;5;129;01mnot\u001b[39;00m \u001b[38;5;28;01mNone\u001b[39;00m:\n",
      "\u001b[36mFile \u001b[39m\u001b[32m~/.conda/envs/neuralop/lib/python3.13/site-packages/torch/nn/modules/module.py:1739\u001b[39m, in \u001b[36mModule._wrapped_call_impl\u001b[39m\u001b[34m(self, *args, **kwargs)\u001b[39m\n\u001b[32m   1737\u001b[39m     \u001b[38;5;28;01mreturn\u001b[39;00m \u001b[38;5;28mself\u001b[39m._compiled_call_impl(*args, **kwargs)  \u001b[38;5;66;03m# type: ignore[misc]\u001b[39;00m\n\u001b[32m   1738\u001b[39m \u001b[38;5;28;01melse\u001b[39;00m:\n\u001b[32m-> \u001b[39m\u001b[32m1739\u001b[39m     \u001b[38;5;28;01mreturn\u001b[39;00m \u001b[38;5;28;43mself\u001b[39;49m\u001b[43m.\u001b[49m\u001b[43m_call_impl\u001b[49m\u001b[43m(\u001b[49m\u001b[43m*\u001b[49m\u001b[43margs\u001b[49m\u001b[43m,\u001b[49m\u001b[43m \u001b[49m\u001b[43m*\u001b[49m\u001b[43m*\u001b[49m\u001b[43mkwargs\u001b[49m\u001b[43m)\u001b[49m\n",
      "\u001b[36mFile \u001b[39m\u001b[32m~/.conda/envs/neuralop/lib/python3.13/site-packages/torch/nn/modules/module.py:1750\u001b[39m, in \u001b[36mModule._call_impl\u001b[39m\u001b[34m(self, *args, **kwargs)\u001b[39m\n\u001b[32m   1745\u001b[39m \u001b[38;5;66;03m# If we don't have any hooks, we want to skip the rest of the logic in\u001b[39;00m\n\u001b[32m   1746\u001b[39m \u001b[38;5;66;03m# this function, and just call forward.\u001b[39;00m\n\u001b[32m   1747\u001b[39m \u001b[38;5;28;01mif\u001b[39;00m \u001b[38;5;129;01mnot\u001b[39;00m (\u001b[38;5;28mself\u001b[39m._backward_hooks \u001b[38;5;129;01mor\u001b[39;00m \u001b[38;5;28mself\u001b[39m._backward_pre_hooks \u001b[38;5;129;01mor\u001b[39;00m \u001b[38;5;28mself\u001b[39m._forward_hooks \u001b[38;5;129;01mor\u001b[39;00m \u001b[38;5;28mself\u001b[39m._forward_pre_hooks\n\u001b[32m   1748\u001b[39m         \u001b[38;5;129;01mor\u001b[39;00m _global_backward_pre_hooks \u001b[38;5;129;01mor\u001b[39;00m _global_backward_hooks\n\u001b[32m   1749\u001b[39m         \u001b[38;5;129;01mor\u001b[39;00m _global_forward_hooks \u001b[38;5;129;01mor\u001b[39;00m _global_forward_pre_hooks):\n\u001b[32m-> \u001b[39m\u001b[32m1750\u001b[39m     \u001b[38;5;28;01mreturn\u001b[39;00m \u001b[43mforward_call\u001b[49m\u001b[43m(\u001b[49m\u001b[43m*\u001b[49m\u001b[43margs\u001b[49m\u001b[43m,\u001b[49m\u001b[43m \u001b[49m\u001b[43m*\u001b[49m\u001b[43m*\u001b[49m\u001b[43mkwargs\u001b[49m\u001b[43m)\u001b[49m\n\u001b[32m   1752\u001b[39m result = \u001b[38;5;28;01mNone\u001b[39;00m\n\u001b[32m   1753\u001b[39m called_always_called_hooks = \u001b[38;5;28mset\u001b[39m()\n",
      "\u001b[36mFile \u001b[39m\u001b[32m~/neuraloperator/neuralop/layers/spectral_convolution.py:500\u001b[39m, in \u001b[36mSpectralConv.forward\u001b[39m\u001b[34m(self, x, output_shape)\u001b[39m\n\u001b[32m    498\u001b[39m     x = torch.fft.ifftn(out_fft, s=mode_sizes, dim=fft_dims, norm=\u001b[38;5;28mself\u001b[39m.fft_norm)\n\u001b[32m    499\u001b[39m \u001b[38;5;28;01melse\u001b[39;00m:\n\u001b[32m--> \u001b[39m\u001b[32m500\u001b[39m     x = \u001b[43mtorch\u001b[49m\u001b[43m.\u001b[49m\u001b[43mfft\u001b[49m\u001b[43m.\u001b[49m\u001b[43mirfftn\u001b[49m\u001b[43m(\u001b[49m\u001b[43mout_fft\u001b[49m\u001b[43m,\u001b[49m\u001b[43m \u001b[49m\u001b[43ms\u001b[49m\u001b[43m=\u001b[49m\u001b[43mmode_sizes\u001b[49m\u001b[43m,\u001b[49m\u001b[43m \u001b[49m\u001b[43mdim\u001b[49m\u001b[43m=\u001b[49m\u001b[43mfft_dims\u001b[49m\u001b[43m,\u001b[49m\u001b[43m \u001b[49m\u001b[43mnorm\u001b[49m\u001b[43m=\u001b[49m\u001b[38;5;28;43mself\u001b[39;49m\u001b[43m.\u001b[49m\u001b[43mfft_norm\u001b[49m\u001b[43m)\u001b[49m\n\u001b[32m    502\u001b[39m \u001b[38;5;28;01mif\u001b[39;00m \u001b[38;5;28mself\u001b[39m.bias \u001b[38;5;129;01mis\u001b[39;00m \u001b[38;5;129;01mnot\u001b[39;00m \u001b[38;5;28;01mNone\u001b[39;00m:\n\u001b[32m    503\u001b[39m     x = x + \u001b[38;5;28mself\u001b[39m.bias\n",
      "\u001b[31mOutOfMemoryError\u001b[39m: CUDA out of memory. Tried to allocate 3.73 GiB. GPU 0 has a total capacity of 31.73 GiB of which 2.54 GiB is free. Including non-PyTorch memory, this process has 29.19 GiB memory in use. Of the allocated memory 26.50 GiB is allocated by PyTorch, and 2.29 GiB is reserved by PyTorch but unallocated. If reserved but unallocated memory is large try setting PYTORCH_CUDA_ALLOC_CONF=expandable_segments:True to avoid fragmentation.  See documentation for Memory Management  (https://pytorch.org/docs/stable/notes/cuda.html#environment-variables)"
     ]
    }
   ],
   "source": [
    "trainer = args.train_args['trainer'](\n",
    "    model = model,\n",
    "    n_epochs = args.train_args['n_epochs'],\n",
    "    # wandb_log = True,\n",
    "    device = args.train_args['device'],\n",
    "    verbose = True\n",
    ")\n",
    "trainer.train(\n",
    "    train_loader = loader,\n",
    "    test_loaders = {},\n",
    "    optimizer = optimizer,\n",
    "    scheduler = scheduler,\n",
    "    regularizer = False,\n",
    "    training_loss = train_loss,\n",
    "    save_every = 1,\n",
    "    save_dir = '../checkpoints/'\n",
    ")"
   ]
  },
  {
   "cell_type": "code",
   "execution_count": null,
   "metadata": {},
   "outputs": [
    {
     "data": {
      "text/plain": [
       "<All keys matched successfully>"
      ]
     },
     "execution_count": 12,
     "metadata": {},
     "output_type": "execute_result"
    }
   ],
   "source": [
    "model = args.model(**args.model_args).to(args.validate_args['device'])\n",
    "model.load_state_dict(torch.load('../checkpoints/model_state_dict.pt', weights_only=False))"
   ]
  },
  {
   "cell_type": "code",
   "execution_count": null,
   "metadata": {},
   "outputs": [],
   "source": [
    "data = next(iter(loader))\n",
    "output = recurrent_formulation(\n",
    "    model,\n",
    "    initial_input=data['x'][0].unsqueeze(0).float().to(device),\n",
    "    n_iteration=20,\n",
    "    n_timesteps=5,\n",
    "    n_variables=3,\n",
    "    device=torch.device('cpu'),\n",
    ")"
   ]
  },
  {
   "cell_type": "code",
   "execution_count": null,
   "metadata": {},
   "outputs": [
    {
     "data": {
      "text/plain": [
       "tensor([[[[-3.7247e-01, -3.7357e-01, -3.7235e-01,  ..., -3.5627e-01,\n",
       "           -3.6560e-01, -3.5388e-01],\n",
       "          [-3.0546e-01, -3.0540e-01, -3.0621e-01,  ..., -3.5367e-01,\n",
       "           -3.2565e-01, -3.5033e-01],\n",
       "          [ 2.8617e-01,  2.8475e-01,  2.8450e-01,  ...,  2.5220e-01,\n",
       "            2.7044e-01,  2.6692e-01],\n",
       "          ...,\n",
       "          [-1.7741e+04, -1.7614e+04, -1.7490e+04,  ..., -1.8039e+04,\n",
       "           -1.7955e+04, -1.7869e+04],\n",
       "          [-2.7681e+04, -2.7930e+04, -2.8197e+04,  ..., -2.6996e+04,\n",
       "           -2.7209e+04, -2.7440e+04],\n",
       "          [ 3.8863e+05,  3.9121e+05,  3.9378e+05,  ...,  3.8086e+05,\n",
       "            3.8348e+05,  3.8605e+05]],\n",
       "\n",
       "         [[-4.1958e-01, -4.2046e-01, -4.1834e-01,  ..., -5.6951e-01,\n",
       "           -5.3754e-01, -5.5800e-01],\n",
       "          [ 5.2457e-02,  5.2819e-02,  5.1984e-02,  ..., -1.4681e-01,\n",
       "           -1.2975e-01, -1.2771e-01],\n",
       "          [ 2.1355e+00,  2.1343e+00,  2.1346e+00,  ...,  2.0727e+00,\n",
       "            2.0914e+00,  2.0794e+00],\n",
       "          ...,\n",
       "          [ 2.6288e+04,  2.6259e+04,  2.6229e+04,  ...,  2.6491e+04,\n",
       "            2.6406e+04,  2.6324e+04],\n",
       "          [ 2.0178e+05,  2.0170e+05,  2.0165e+05,  ...,  2.0211e+05,\n",
       "            2.0200e+05,  2.0187e+05],\n",
       "          [ 7.5736e+05,  7.5742e+05,  7.5749e+05,  ...,  7.5716e+05,\n",
       "            7.5725e+05,  7.5731e+05]],\n",
       "\n",
       "         [[ 2.5987e-02,  2.5912e-02,  2.5759e-02,  ...,  2.7427e-01,\n",
       "            2.7281e-01,  2.6380e-01],\n",
       "          [-1.2526e-02, -1.0643e-02, -1.2554e-02,  ...,  1.1285e-01,\n",
       "            1.1563e-01,  1.2843e-01],\n",
       "          [ 4.3143e-01,  4.3161e-01,  4.3101e-01,  ...,  5.1416e-01,\n",
       "            5.0332e-01,  5.0087e-01],\n",
       "          ...,\n",
       "          [ 8.9819e+04,  8.9803e+04,  8.9791e+04,  ...,  8.9735e+04,\n",
       "            8.9788e+04,  8.9836e+04],\n",
       "          [ 4.9425e+05,  4.9418e+05,  4.9422e+05,  ...,  4.9478e+05,\n",
       "            4.9457e+05,  4.9438e+05],\n",
       "          [ 1.0007e+06,  1.0014e+06,  1.0020e+06,  ...,  9.9885e+05,\n",
       "            9.9947e+05,  1.0001e+06]]]], grad_fn=<CatBackward0>)"
      ]
     },
     "execution_count": 16,
     "metadata": {},
     "output_type": "execute_result"
    }
   ],
   "source": [
    "output"
   ]
  },
  {
   "cell_type": "code",
   "execution_count": null,
   "metadata": {},
   "outputs": [
    {
     "name": "stdout",
     "output_type": "stream",
     "text": [
      "torch.Size([10, 3, 78083])\n"
     ]
    },
    {
     "data": {
      "image/png": "[encoded data removed]",
      "text/plain": [
       "<Figure size 640x480 with 1 Axes>"
      ]
     },
     "metadata": {},
     "output_type": "display_data"
    }
   ],
   "source": [
    "import matplotlib.pyplot as plt\n",
    "\n",
    "y = output[0,2,:10,700].detach().numpy()\n",
    "\n",
    "yy = data['y']\n",
    "print(yy.shape)\n",
    "yy = yy[]\n",
    "plt.plot(y)\n",
    "# plt.plot(yy)\n",
    "plt.show()"
   ]
  }
 ],
 "metadata": {
  "kernelspec": {
   "display_name": "neuralop",
   "language": "python",
   "name": "python3"
  },
  "language_info": {
   "codemirror_mode": {
    "name": "ipython",
    "version": 3
   },
   "file_extension": ".py",
   "mimetype": "text/x-python",
   "name": "python",
   "nbconvert_exporter": "python",
   "pygments_lexer": "ipython3",
   "version": "3.13.2"
  }
 },
 "nbformat": 4,
 "nbformat_minor": 2
}
