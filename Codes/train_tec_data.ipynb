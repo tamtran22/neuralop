{
 "cells": [
  {
   "cell_type": "code",
   "execution_count": 1,
   "metadata": {},
   "outputs": [],
   "source": [
    "import os\n",
    "import numpy as np\n",
    "import torch\n",
    "import matplotlib.pyplot as plt\n",
    "from neuralop import LpLoss, H1Loss\n",
    "from neuralop import Trainer\n",
    "from neuralop.training import AdamW\n",
    "from neuralop.models import FNO1d\n",
    "from torch.utils.data import DataLoader\n",
    "from data.tecplot import *\n",
    "from utils.utils import *\n",
    "\n",
    "os.environ[\"CUDA_VISIBLE_DEVICES\"]=\"0\" \n",
    "device = torch.device('cuda:0' if torch.cuda.is_available() else 'cpu')"
   ]
  },
  {
   "cell_type": "code",
   "execution_count": null,
   "metadata": {},
   "outputs": [],
   "source": [
    "args = objectview({\n",
    "    'model' : FNO1d,\n",
    "    'model_args': {\n",
    "        'n_modes_height' : 32,\n",
    "        'hidden_channels' : 64,\n",
    "        'in_channels' : 15,\n",
    "        'out_channels' : 3,\n",
    "        'n_layers' : 10\n",
    "    },\n",
    "    'train_args': {\n",
    "        'device' : torch.device('cuda:0' if torch.cuda.is_available() else 'cpu'),\n",
    "        'optimizer' : AdamW,\n",
    "        'lr' : 5e-4,\n",
    "        'weight_decay' : 1e-4,\n",
    "        'scheduler' : torch.optim.lr_scheduler.CosineAnnealingLR,\n",
    "        'loss' : H1Loss(d=2)\n",
    "    },\n",
    "    'inference_args': {\n",
    "        'device' : torch.device('cpu')\n",
    "    }\n",
    "})"
   ]
  },
  {
   "cell_type": "code",
   "execution_count": 2,
   "metadata": {},
   "outputs": [],
   "source": [
    "data_names = [\n",
    "    '../data/it01rh_400-500_slice_trachea.dat',\n",
    "    '../data/it01rh_501-600_slice_trachea.dat',\n",
    "    '../data/it01rh_601-700_slice_trachea.dat',\n",
    "    '../data/it01rh_701-800_slice_trachea.dat'\n",
    "]\n",
    "dataset = load_tecplot_to_pt_dataset(\n",
    "    root_dir='../data/',\n",
    "    dataset_name='tecplot_slice',\n",
    "    n_train=200, \n",
    "    n_test=100, \n",
    "    resolution='medium',\n",
    "    batch_size=20,\n",
    "    normalize=True,\n",
    "    file_names=data_names,\n",
    ")"
   ]
  },
  {
   "cell_type": "code",
   "execution_count": 3,
   "metadata": {},
   "outputs": [],
   "source": [
    "loader = DataLoader(\n",
    "    dataset.train_db, \n",
    "    batch_size=10, \n",
    "    num_workers=0, \n",
    "    pin_memory=False, \n",
    "    persistent_workers=False\n",
    ")"
   ]
  },
  {
   "cell_type": "code",
   "execution_count": null,
   "metadata": {},
   "outputs": [],
   "source": [
    "model = args.model(**args.model_args).to(args.train_args['device'])\n",
    "optimizer = args.train_args['optimizer'](\n",
    "    model.parameters(), \n",
    "    lr=args.train_args['lr'], \n",
    "    weight_decay=args.train_args['weight_decay']\n",
    ")\n",
    "if args.train_args['scheduler'] is not None:\n",
    "    scheduler = args.train_args['scheduler'](optimizer, T_max=30)\n",
    "train_loss = args.train_args['loss']"
   ]
  },
  {
   "cell_type": "code",
   "execution_count": 5,
   "metadata": {},
   "outputs": [],
   "source": [
    "# trainer = Trainer(\n",
    "#     model = model,\n",
    "#     n_epochs = 1000,\n",
    "#     device = device\n",
    "# )\n",
    "# model.train()\n",
    "# trainer.train(\n",
    "#     train_loader = loader,\n",
    "#     test_loaders = {},\n",
    "#     optimizer = optimizer,\n",
    "#     scheduler = scheduler,\n",
    "#     regularizer = False,\n",
    "#     training_loss = train_loss,\n",
    "#     save_every = 1,\n",
    "#     save_dir = '../checkpoints/'\n",
    "# )"
   ]
  },
  {
   "cell_type": "code",
   "execution_count": null,
   "metadata": {},
   "outputs": [
    {
     "data": {
      "text/plain": [
       "<All keys matched successfully>"
      ]
     },
     "execution_count": 13,
     "metadata": {},
     "output_type": "execute_result"
    }
   ],
   "source": [
    "# model = FNO1d(\n",
    "#     n_modes_height=32,\n",
    "#     hidden_channels=64,\n",
    "#     in_channels=15,\n",
    "#     out_channels=3,\n",
    "    \n",
    "# ).to(torch.device('cpu'))\n",
    "# model.load_state_dict(torch.load('../checkpoints/model_state_dict.pt', weights_only=False))"
   ]
  },
  {
   "cell_type": "code",
   "execution_count": null,
   "metadata": {},
   "outputs": [],
   "source": [
    "# data = next(iter(loader))\n",
    "# output = recurrent_formulation(\n",
    "#     model,\n",
    "#     initial_input=data['x'][0].unsqueeze(0).float().to(device),\n",
    "#     n_iteration=20,\n",
    "#     n_timesteps=5,\n",
    "#     n_variables=3,\n",
    "#     device=torch.device('cpu'),\n",
    "# )"
   ]
  },
  {
   "cell_type": "code",
   "execution_count": null,
   "metadata": {},
   "outputs": [
    {
     "data": {
      "image/png": "[encoded data removed]",
      "text/plain": [
       "<Figure size 640x480 with 1 Axes>"
      ]
     },
     "metadata": {},
     "output_type": "display_data"
    }
   ],
   "source": [
    "# import matplotlib.pyplot as plt\n",
    "\n",
    "# y = output[0,2,:,700].detach().numpy()\n",
    "# plt.plot(y)\n",
    "# plt.show()"
   ]
  }
 ],
 "metadata": {
  "kernelspec": {
   "display_name": "neuralop",
   "language": "python",
   "name": "python3"
  },
  "language_info": {
   "codemirror_mode": {
    "name": "ipython",
    "version": 3
   },
   "file_extension": ".py",
   "mimetype": "text/x-python",
   "name": "python",
   "nbconvert_exporter": "python",
   "pygments_lexer": "ipython3",
   "version": "3.13.2"
  }
 },
 "nbformat": 4,
 "nbformat_minor": 2
}
