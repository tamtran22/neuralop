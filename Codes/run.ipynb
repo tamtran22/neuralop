{
 "cells": [
  {
   "cell_type": "code",
   "execution_count": 1,
   "metadata": {},
   "outputs": [],
   "source": [
    "import numpy as np\n",
    "import torch\n",
    "from PIL import Image\n",
    "import os\n",
    "import matplotlib.pyplot as plt\n",
    "from models.iufno import IU_FNO\n",
    "from neuralop import LpLoss, H1Loss\n",
    "from neuralop import Trainer\n",
    "# from utils.trainer import Trainer\n",
    "from neuralop.training import AdamW\n",
    "from neuralop.models import FNO\n",
    "from models.iufno import IU_FNO\n",
    "from torch.utils.data import DataLoader\n",
    "\n",
    "os.environ[\"CUDA_VISIBLE_DEVICES\"]=\"0\" \n",
    "device = torch.device('cuda:0' if torch.cuda.is_available() else 'cpu')"
   ]
  },
  {
   "cell_type": "code",
   "execution_count": 2,
   "metadata": {},
   "outputs": [],
   "source": [
    "a = torch.ones((1000,1000))\n",
    "a = a.to(device)"
   ]
  },
  {
   "cell_type": "code",
   "execution_count": null,
   "metadata": {},
   "outputs": [],
   "source": [
    "from data.slice_image import load_trachea_slice_dataset\n",
    "dataset = load_trachea_slice_dataset('../data/vmag_black', 'trachea', 300, 50, resolution=512, batch_size=4, test_batch_size=10, normalize=True, rgb=True)\n"
   ]
  },
  {
   "cell_type": "code",
   "execution_count": null,
   "metadata": {},
   "outputs": [],
   "source": [
    "dataset.train_db[0]['x'].size(), dataset.train_db[0]['y'].size()"
   ]
  },
  {
   "cell_type": "code",
   "execution_count": null,
   "metadata": {},
   "outputs": [],
   "source": [
    "train_loader = DataLoader(dataset.train_db, batch_size=4, num_workers=0, pin_memory=False, persistent_workers=False)\n",
    "test_loader = DataLoader(dataset.test_dbs[512], batch_size=4, num_workers=0, pin_memory=False, persistent_workers=False)"
   ]
  },
  {
   "cell_type": "code",
   "execution_count": null,
   "metadata": {},
   "outputs": [],
   "source": [
    "model = IU_FNO(n_modes=(16, 16),\n",
    "             in_channels=30,\n",
    "             out_channels=3,\n",
    "             hidden_channels=64, \n",
    "             projection_channel_ratio=2).to(device)\n",
    "optimizer = AdamW(model.parameters(), lr=5e-4, weight_decay=1e-4)\n",
    "scheduler = torch.optim.lr_scheduler.CosineAnnealingLR(optimizer, T_max=30)\n",
    "l2loss = LpLoss(d=2, p=2)\n",
    "h1loss = H1Loss(d=2)\n",
    "train_loss =h1loss\n",
    "eval_loss = {'h1' : h1loss}"
   ]
  },
  {
   "cell_type": "code",
   "execution_count": null,
   "metadata": {},
   "outputs": [],
   "source": [
    "trainer = Trainer(\n",
    "    model = model,\n",
    "    n_epochs = 100,\n",
    "    device = device\n",
    ")"
   ]
  },
  {
   "cell_type": "code",
   "execution_count": null,
   "metadata": {},
   "outputs": [],
   "source": [
    "model.train()\n",
    "trainer.train(\n",
    "    train_loader = train_loader,\n",
    "    test_loaders = {},\n",
    "    optimizer = optimizer,\n",
    "    scheduler = scheduler,\n",
    "    regularizer = False,\n",
    "    training_loss = train_loss,\n",
    "    # eval_losses = eval_loss,\n",
    "    save_every = 5,\n",
    "    save_dir = '../checkpoints/'\n",
    ")"
   ]
  },
  {
   "cell_type": "code",
   "execution_count": null,
   "metadata": {},
   "outputs": [],
   "source": [
    "model = IU_FNO(n_modes=(16, 16),\n",
    "             in_channels=30,\n",
    "             out_channels=3,\n",
    "             hidden_channels=64, \n",
    "             projection_channel_ratio=2).to(device)\n",
    "model.load_state_dict(torch.load('../checkpoints/model_state_dict.pt', weights_only=False))\n",
    "model.eval()\n",
    "# eval\n",
    "torch.cuda.empty_cache()\n",
    "\n",
    "data = next(iter(test_loader))\n",
    "x = data['x'].to(device)\n",
    "y = data['y'].to(device) * 255\n",
    "\n",
    "y_pred = model(x) * 255\n",
    "\n",
    "y = y.transpose(1,2).transpose(2,3).cpu().numpy().astype(np.uint8)\n",
    "y_pred = y_pred.transpose(1,2).transpose(2,3).detach().cpu().numpy().astype(np.uint8)\n",
    "y.shape, y_pred.shape"
   ]
  },
  {
   "cell_type": "code",
   "execution_count": null,
   "metadata": {},
   "outputs": [],
   "source": [
    "for i in range(0, 4):\n",
    "    yy = y[i]\n",
    "    yy_pred = y_pred[i]\n",
    "    plt.imshow(yy)\n",
    "    plt.show()\n",
    "    plt.imshow(yy_pred)\n",
    "    plt.show()"
   ]
  },
  {
   "cell_type": "code",
   "execution_count": 3,
   "metadata": {},
   "outputs": [
    {
     "name": "stdout",
     "output_type": "stream",
     "text": [
      "(2, 3)\n",
      "[[0 1 2]\n",
      " [3 4 5]]\n"
     ]
    }
   ],
   "source": [
    "import numpy as np\n",
    "a = np.array([[0,1,2],[3,4,5]])\n",
    "print(a.shape)\n",
    "print(a)"
   ]
  },
  {
   "cell_type": "code",
   "execution_count": 5,
   "metadata": {},
   "outputs": [
    {
     "name": "stdout",
     "output_type": "stream",
     "text": [
      "(6,)\n",
      "[0 1 2 3 4 5]\n"
     ]
    }
   ],
   "source": [
    "a = a.reshape((6,))\n",
    "print(a.shape)\n",
    "print(a)"
   ]
  }
 ],
 "metadata": {
  "kernelspec": {
   "display_name": "neuralop",
   "language": "python",
   "name": "python3"
  },
  "language_info": {
   "codemirror_mode": {
    "name": "ipython",
    "version": 3
   },
   "file_extension": ".py",
   "mimetype": "text/x-python",
   "name": "python",
   "nbconvert_exporter": "python",
   "pygments_lexer": "ipython3",
   "version": "3.13.2"
  }
 },
 "nbformat": 4,
 "nbformat_minor": 2
}
